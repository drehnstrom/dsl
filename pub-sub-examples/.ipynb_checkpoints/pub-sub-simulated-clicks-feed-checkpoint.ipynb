{
 "cells": [
  {
   "cell_type": "code",
   "execution_count": null,
   "id": "2829a53c-2e9a-40f1-9c5e-791d426edb80",
   "metadata": {},
   "outputs": [],
   "source": []
  },
  {
   "cell_type": "markdown",
   "id": "71697b95-f75e-492d-a48b-e2f311f57a63",
   "metadata": {},
   "source": [
    "# Make up a random Click event. "
   ]
  },
  {
   "cell_type": "code",
   "execution_count": 20,
   "id": "3b513fe1-8022-49f8-a83f-0ae7a87c9ccc",
   "metadata": {
    "tags": []
   },
   "outputs": [],
   "source": [
    "import json\n",
    "import time\n",
    "import random\n",
    "from datetime import datetime\n",
    "\n",
    "# Arrays of usernames and products\n",
    "usernames = [\n",
    "    \"tech_savvy\", \"gamer123\", \"pc_builder\", \"keyboard_warrior\", \"mouse_master\", \"laptop_lover\",\n",
    "    \"coder_jane\", \"geek_guy\", \"hardware_harry\", \"pc_pro\", \"desktop_dude\", \"monitor_maven\",\n",
    "    \"peripheral_queen\", \"it_guru\", \"ssd_speedster\", \"ram_rocker\", \"techie_tom\", \"gadget_girl\",\n",
    "    \"gpu_guru\", \"motherboard_mike\", \"keyboard_king\", \"tech_traveler\", \"screen_savvy\", \"build_master\",\n",
    "    \"device_diva\"\n",
    "]\n",
    "\n",
    "products = [\n",
    "    {\"id\": \"P001\", \"name\": \"Gaming Laptop\"}, {\"id\": \"P002\", \"name\": \"Mechanical Keyboard\"},\n",
    "    {\"id\": \"P003\", \"name\": \"Wireless Mouse\"}, {\"id\": \"P004\", \"name\": \"4K Monitor\"},\n",
    "    {\"id\": \"P005\", \"name\": \"Gaming Chair\"}, {\"id\": \"P006\", \"name\": \"Graphics Card\"},\n",
    "    {\"id\": \"P007\", \"name\": \"External SSD\"}, {\"id\": \"P008\", \"name\": \"Desktop PC\"},\n",
    "    {\"id\": \"P009\", \"name\": \"Laptop Stand\"}, {\"id\": \"P010\", \"name\": \"USB-C Hub\"},\n",
    "    {\"id\": \"P011\", \"name\": \"Noise Cancelling Headphones\"}, {\"id\": \"P012\", \"name\": \"Gaming Mouse Pad\"},\n",
    "    {\"id\": \"P013\", \"name\": \"Webcam\"}, {\"id\": \"P014\", \"name\": \"Bluetooth Speakers\"},\n",
    "    {\"id\": \"P015\", \"name\": \"VR Headset\"}, {\"id\": \"P016\", \"name\": \"CPU Cooler\"},\n",
    "    {\"id\": \"P017\", \"name\": \"RAM Kit\"}, {\"id\": \"P018\", \"name\": \"Power Supply Unit\"},\n",
    "    {\"id\": \"P019\", \"name\": \"Motherboard\"}, {\"id\": \"P020\", \"name\": \"Portable Hard Drive\"},\n",
    "    {\"id\": \"P021\", \"name\": \"Surge Protector\"}, {\"id\": \"P022\", \"name\": \"Ethernet Cable\"},\n",
    "    {\"id\": \"P023\", \"name\": \"Laptop Bag\"}, {\"id\": \"P024\", \"name\": \"Smartphone Holder\"},\n",
    "    {\"id\": \"P025\", \"name\": \"USB Flash Drive\"}\n",
    "]\n",
    "\n",
    "# Function to generate random click data\n",
    "def generate_click_data():\n",
    "    username = random.choice(usernames)\n",
    "    route = random.choice(['/home', '/about', '/contact', '/products', '/cart'])\n",
    "    parameters = []\n",
    "    \n",
    "    # Add a product if the route is /products\n",
    "    if route == '/products':\n",
    "        product = random.choice(products)\n",
    "        parameters.append({\"product_id\": product[\"id\"]})\n",
    "        parameters.append({\"product_name\": product[\"name\"]})\n",
    "        \n",
    "    if route == '/cart':\n",
    "        product = random.choice(products)\n",
    "        parameters.append({\"product_id\": product[\"id\"]})\n",
    "        parameters.append({\"product_name\": product[\"name\"]})\n",
    "        parameters.append({\"quantity\": random.randint(1, 3)})\n",
    "    \n",
    "    \n",
    "    # Set the method based on the route\n",
    "    if route == '/cart':\n",
    "        method = 'POST'\n",
    "    else:\n",
    "        method = 'GET'\n",
    "    \n",
    "    click_data = {\n",
    "        'timestamp': datetime.utcnow().isoformat() + 'Z',\n",
    "        'username': username,\n",
    "        'route': route,\n",
    "        'method': method,\n",
    "        'parameters': parameters\n",
    "    }\n",
    "    return click_data"
   ]
  },
  {
   "cell_type": "code",
   "execution_count": 21,
   "id": "40f2e0e8-725d-4bec-b88b-a19b40f80235",
   "metadata": {
    "tags": []
   },
   "outputs": [
    {
     "name": "stdout",
     "output_type": "stream",
     "text": [
      "{'timestamp': '2024-07-17T12:34:44.442608Z', 'username': 'tech_traveler', 'route': '/cart', 'method': 'POST', 'parameters': [{'product_id': 'P002'}, {'product_name': 'Mechanical Keyboard'}, {'quantity': 2}]}\n",
      "{'timestamp': '2024-07-17T12:34:44.444271Z', 'username': 'laptop_lover', 'route': '/contact', 'method': 'GET', 'parameters': []}\n",
      "{'timestamp': '2024-07-17T12:34:44.444310Z', 'username': 'device_diva', 'route': '/home', 'method': 'GET', 'parameters': []}\n",
      "{'timestamp': '2024-07-17T12:34:44.444335Z', 'username': 'desktop_dude', 'route': '/contact', 'method': 'GET', 'parameters': []}\n",
      "{'timestamp': '2024-07-17T12:34:44.444357Z', 'username': 'monitor_maven', 'route': '/about', 'method': 'GET', 'parameters': []}\n",
      "{'timestamp': '2024-07-17T12:34:44.444380Z', 'username': 'gamer123', 'route': '/contact', 'method': 'GET', 'parameters': []}\n",
      "{'timestamp': '2024-07-17T12:34:44.444402Z', 'username': 'peripheral_queen', 'route': '/about', 'method': 'GET', 'parameters': []}\n",
      "{'timestamp': '2024-07-17T12:34:44.444433Z', 'username': 'screen_savvy', 'route': '/cart', 'method': 'POST', 'parameters': [{'product_id': 'P019'}, {'product_name': 'Motherboard'}, {'quantity': 3}]}\n",
      "{'timestamp': '2024-07-17T12:34:44.444462Z', 'username': 'gadget_girl', 'route': '/contact', 'method': 'GET', 'parameters': []}\n",
      "{'timestamp': '2024-07-17T12:34:44.444482Z', 'username': 'keyboard_warrior', 'route': '/contact', 'method': 'GET', 'parameters': []}\n",
      "{'timestamp': '2024-07-17T12:34:44.444504Z', 'username': 'pc_builder', 'route': '/products', 'method': 'GET', 'parameters': [{'product_id': 'P017'}, {'product_name': 'RAM Kit'}]}\n",
      "{'timestamp': '2024-07-17T12:34:44.444530Z', 'username': 'mouse_master', 'route': '/products', 'method': 'GET', 'parameters': [{'product_id': 'P010'}, {'product_name': 'USB-C Hub'}]}\n",
      "{'timestamp': '2024-07-17T12:34:44.444555Z', 'username': 'pc_builder', 'route': '/products', 'method': 'GET', 'parameters': [{'product_id': 'P025'}, {'product_name': 'USB Flash Drive'}]}\n",
      "{'timestamp': '2024-07-17T12:34:44.444584Z', 'username': 'desktop_dude', 'route': '/cart', 'method': 'POST', 'parameters': [{'product_id': 'P022'}, {'product_name': 'Ethernet Cable'}, {'quantity': 1}]}\n",
      "{'timestamp': '2024-07-17T12:34:44.444609Z', 'username': 'monitor_maven', 'route': '/home', 'method': 'GET', 'parameters': []}\n",
      "{'timestamp': '2024-07-17T12:34:44.444633Z', 'username': 'it_guru', 'route': '/cart', 'method': 'POST', 'parameters': [{'product_id': 'P010'}, {'product_name': 'USB-C Hub'}, {'quantity': 3}]}\n",
      "{'timestamp': '2024-07-17T12:34:44.444660Z', 'username': 'motherboard_mike', 'route': '/cart', 'method': 'POST', 'parameters': [{'product_id': 'P024'}, {'product_name': 'Smartphone Holder'}, {'quantity': 1}]}\n",
      "{'timestamp': '2024-07-17T12:34:44.444684Z', 'username': 'peripheral_queen', 'route': '/products', 'method': 'GET', 'parameters': [{'product_id': 'P013'}, {'product_name': 'Webcam'}]}\n",
      "{'timestamp': '2024-07-17T12:34:44.444706Z', 'username': 'it_guru', 'route': '/products', 'method': 'GET', 'parameters': [{'product_id': 'P013'}, {'product_name': 'Webcam'}]}\n",
      "{'timestamp': '2024-07-17T12:34:44.444727Z', 'username': 'laptop_lover', 'route': '/home', 'method': 'GET', 'parameters': []}\n",
      "{'timestamp': '2024-07-17T12:34:44.444756Z', 'username': 'ssd_speedster', 'route': '/about', 'method': 'GET', 'parameters': []}\n",
      "{'timestamp': '2024-07-17T12:34:44.444791Z', 'username': 'coder_jane', 'route': '/contact', 'method': 'GET', 'parameters': []}\n",
      "{'timestamp': '2024-07-17T12:34:44.444814Z', 'username': 'hardware_harry', 'route': '/products', 'method': 'GET', 'parameters': [{'product_id': 'P022'}, {'product_name': 'Ethernet Cable'}]}\n",
      "{'timestamp': '2024-07-17T12:34:44.444839Z', 'username': 'keyboard_king', 'route': '/about', 'method': 'GET', 'parameters': []}\n",
      "{'timestamp': '2024-07-17T12:34:44.444859Z', 'username': 'hardware_harry', 'route': '/contact', 'method': 'GET', 'parameters': []}\n",
      "{'timestamp': '2024-07-17T12:34:44.444879Z', 'username': 'ram_rocker', 'route': '/home', 'method': 'GET', 'parameters': []}\n",
      "{'timestamp': '2024-07-17T12:34:44.444899Z', 'username': 'geek_guy', 'route': '/home', 'method': 'GET', 'parameters': []}\n",
      "{'timestamp': '2024-07-17T12:34:44.444920Z', 'username': 'it_guru', 'route': '/contact', 'method': 'GET', 'parameters': []}\n",
      "{'timestamp': '2024-07-17T12:34:44.444945Z', 'username': 'device_diva', 'route': '/cart', 'method': 'POST', 'parameters': [{'product_id': 'P011'}, {'product_name': 'Noise Cancelling Headphones'}, {'quantity': 3}]}\n",
      "{'timestamp': '2024-07-17T12:34:44.444968Z', 'username': 'device_diva', 'route': '/about', 'method': 'GET', 'parameters': []}\n",
      "{'timestamp': '2024-07-17T12:34:44.444992Z', 'username': 'screen_savvy', 'route': '/cart', 'method': 'POST', 'parameters': [{'product_id': 'P009'}, {'product_name': 'Laptop Stand'}, {'quantity': 1}]}\n",
      "{'timestamp': '2024-07-17T12:34:44.445018Z', 'username': 'device_diva', 'route': '/cart', 'method': 'POST', 'parameters': [{'product_id': 'P008'}, {'product_name': 'Desktop PC'}, {'quantity': 1}]}\n",
      "{'timestamp': '2024-07-17T12:34:44.445038Z', 'username': 'it_guru', 'route': '/home', 'method': 'GET', 'parameters': []}\n",
      "{'timestamp': '2024-07-17T12:34:44.445079Z', 'username': 'it_guru', 'route': '/about', 'method': 'GET', 'parameters': []}\n",
      "{'timestamp': '2024-07-17T12:34:44.445125Z', 'username': 'hardware_harry', 'route': '/about', 'method': 'GET', 'parameters': []}\n",
      "{'timestamp': '2024-07-17T12:34:44.445145Z', 'username': 'gpu_guru', 'route': '/products', 'method': 'GET', 'parameters': [{'product_id': 'P022'}, {'product_name': 'Ethernet Cable'}]}\n",
      "{'timestamp': '2024-07-17T12:34:44.445170Z', 'username': 'pc_pro', 'route': '/contact', 'method': 'GET', 'parameters': []}\n",
      "{'timestamp': '2024-07-17T12:34:44.445195Z', 'username': 'desktop_dude', 'route': '/cart', 'method': 'POST', 'parameters': [{'product_id': 'P016'}, {'product_name': 'CPU Cooler'}, {'quantity': 3}]}\n",
      "{'timestamp': '2024-07-17T12:34:44.445218Z', 'username': 'monitor_maven', 'route': '/contact', 'method': 'GET', 'parameters': []}\n",
      "{'timestamp': '2024-07-17T12:34:44.445239Z', 'username': 'hardware_harry', 'route': '/contact', 'method': 'GET', 'parameters': []}\n",
      "{'timestamp': '2024-07-17T12:34:44.445259Z', 'username': 'keyboard_king', 'route': '/products', 'method': 'GET', 'parameters': [{'product_id': 'P011'}, {'product_name': 'Noise Cancelling Headphones'}]}\n",
      "{'timestamp': '2024-07-17T12:34:44.445281Z', 'username': 'motherboard_mike', 'route': '/about', 'method': 'GET', 'parameters': []}\n",
      "{'timestamp': '2024-07-17T12:34:44.445302Z', 'username': 'peripheral_queen', 'route': '/products', 'method': 'GET', 'parameters': [{'product_id': 'P015'}, {'product_name': 'VR Headset'}]}\n",
      "{'timestamp': '2024-07-17T12:34:44.445324Z', 'username': 'keyboard_warrior', 'route': '/contact', 'method': 'GET', 'parameters': []}\n",
      "{'timestamp': '2024-07-17T12:34:44.445347Z', 'username': 'ssd_speedster', 'route': '/products', 'method': 'GET', 'parameters': [{'product_id': 'P023'}, {'product_name': 'Laptop Bag'}]}\n",
      "{'timestamp': '2024-07-17T12:34:44.445370Z', 'username': 'keyboard_king', 'route': '/about', 'method': 'GET', 'parameters': []}\n",
      "{'timestamp': '2024-07-17T12:34:44.445391Z', 'username': 'device_diva', 'route': '/about', 'method': 'GET', 'parameters': []}\n",
      "{'timestamp': '2024-07-17T12:34:44.445413Z', 'username': 'gamer123', 'route': '/home', 'method': 'GET', 'parameters': []}\n",
      "{'timestamp': '2024-07-17T12:34:44.445434Z', 'username': 'ram_rocker', 'route': '/home', 'method': 'GET', 'parameters': []}\n",
      "{'timestamp': '2024-07-17T12:34:44.445457Z', 'username': 'gadget_girl', 'route': '/products', 'method': 'GET', 'parameters': [{'product_id': 'P024'}, {'product_name': 'Smartphone Holder'}]}\n"
     ]
    }
   ],
   "source": [
    "# Call the generate_click_data function 50 times and print the results\n",
    "for _ in range(50):\n",
    "    click_data = generate_click_data()\n",
    "    print(click_data)\n"
   ]
  },
  {
   "cell_type": "markdown",
   "id": "b967ccd6-5d9d-4dbb-a5e2-7c407c3675de",
   "metadata": {},
   "source": [
    "# Send a Click event to Pub/Sub"
   ]
  },
  {
   "cell_type": "code",
   "execution_count": 23,
   "id": "e3544d3c-b646-4d8b-8595-341cb1bab2e4",
   "metadata": {
    "tags": []
   },
   "outputs": [],
   "source": [
    "from google.cloud import pubsub_v1\n",
    "\n",
    "# Example usage\n",
    "project_id = 'dsl-dar'\n",
    "topic_id = 'clicks'\n",
    "\n",
    "def publish_click_data(project_id, topic_id):\n",
    "    publisher = pubsub_v1.PublisherClient()\n",
    "    topic_path = publisher.topic_path(project_id, topic_id)\n",
    "\n",
    "    click_data = generate_click_data()\n",
    "    data_str = json.dumps(click_data)\n",
    "    data_bytes = data_str.encode('utf-8')\n",
    "\n",
    "    future = publisher.publish(topic_path, data_bytes)\n",
    "    print(f'Published message ID: {future.result()}')\n"
   ]
  },
  {
   "cell_type": "markdown",
   "id": "fc064e87-8c20-410c-9aee-a706473a041d",
   "metadata": {},
   "source": [
    "# Send a message"
   ]
  },
  {
   "cell_type": "code",
   "execution_count": 24,
   "id": "87bea16a-96f6-4387-baa2-b9998ce5cf68",
   "metadata": {
    "tags": []
   },
   "outputs": [
    {
     "name": "stdout",
     "output_type": "stream",
     "text": [
      "Published message ID: 11776305445290763\n"
     ]
    }
   ],
   "source": [
    "# Call the publish_click_data function\n",
    "publish_click_data(project_id, topic_id)"
   ]
  },
  {
   "cell_type": "markdown",
   "id": "122d5525-6d8f-4e9d-94ae-ee4c798711df",
   "metadata": {},
   "source": [
    "# Send some number of messages for a specified duration. "
   ]
  },
  {
   "cell_type": "code",
   "execution_count": null,
   "id": "ace31f61-858d-4dfc-acf9-61096d884a1c",
   "metadata": {
    "tags": []
   },
   "outputs": [
    {
     "name": "stdout",
     "output_type": "stream",
     "text": [
      "Published message ID: 11776261901756493\n",
      "Published message ID: 11775808721901998\n",
      "Published message ID: 11775937160674148\n",
      "Published message ID: 11776706342915482\n",
      "Published message ID: 11776710287373616\n",
      "Published message ID: 11777199712963951\n",
      "Published message ID: 10236207220135705\n"
     ]
    }
   ],
   "source": [
    "times_per_minute = 10\n",
    "duration_minutes = 1  # Specify the duration in minutes\n",
    "interval = 60 / times_per_minute\n",
    "\n",
    "# Loop to call the publish_click_data function a specified number of times per minute for a specified duration\n",
    "end_time = time.time() + duration_minutes * 60\n",
    "while time.time() < end_time:\n",
    "    for _ in range(times_per_minute):\n",
    "        publish_click_data(project_id, topic_id)\n",
    "        time.sleep(interval)\n"
   ]
  },
  {
   "cell_type": "code",
   "execution_count": null,
   "id": "4ba91a0f-da35-43da-9d11-d566dc817630",
   "metadata": {},
   "outputs": [],
   "source": []
  }
 ],
 "metadata": {
  "environment": {
   "kernel": "apache-beam-2.56.0",
   "name": ".m116",
   "type": "gcloud",
   "uri": "gcr.io/deeplearning-platform-release/:m116"
  },
  "kernelspec": {
   "display_name": "Apache Beam 2.56.0 (Local)",
   "language": "python",
   "name": "apache-beam-2.56.0"
  },
  "language_info": {
   "codemirror_mode": {
    "name": "ipython",
    "version": 3
   },
   "file_extension": ".py",
   "mimetype": "text/x-python",
   "name": "python",
   "nbconvert_exporter": "python",
   "pygments_lexer": "ipython3",
   "version": "3.10.14"
  }
 },
 "nbformat": 4,
 "nbformat_minor": 5
}
